{
 "cells": [
  {
   "cell_type": "markdown",
   "metadata": {},
   "source": [
    "## Recap"
   ]
  },
  {
   "cell_type": "code",
   "execution_count": 3,
   "metadata": {
    "collapsed": false
   },
   "outputs": [
    {
     "name": "stdout",
     "output_type": "stream",
     "text": [
      "Overwriting main.kv\n"
     ]
    }
   ],
   "source": [
    "%%writefile main.kv\n",
    "\n",
    "<Widget>:\n",
    "    canvas:\n",
    "        Color:\n",
    "            rgba: .5,.5,.5,.5\n",
    "        Line:\n",
    "            rectangle: self.x, self.y, self.width, self.height\n",
    "            width: 2"
   ]
  },
  {
   "cell_type": "code",
   "execution_count": 4,
   "metadata": {
    "collapsed": false
   },
   "outputs": [
    {
     "name": "stdout",
     "output_type": "stream",
     "text": [
      "Overwriting main.py\n"
     ]
    }
   ],
   "source": [
    "%%writefile main.py\n",
    "\n",
    "from kivy.app import App\n",
    "from selectiontool import SelectionTool\n",
    "\n",
    "\n",
    "class MainApp(App):\n",
    "    title = 'Image Selection Tool'\n",
    "\n",
    "    def build(self):\n",
    "        return SelectionTool()\n",
    "\n",
    "\n",
    "if __name__ == '__main__':\n",
    "    MainApp().run()"
   ]
  },
  {
   "cell_type": "code",
   "execution_count": 5,
   "metadata": {
    "collapsed": false
   },
   "outputs": [
    {
     "name": "stdout",
     "output_type": "stream",
     "text": [
      "Overwriting imagepane.py\n"
     ]
    }
   ],
   "source": [
    "%%writefile imagepane.py\n",
    "\n",
    "from kivy.uix.image import Image\n",
    "from kivy.lang import Builder\n",
    "from kivy.app import App\n",
    "\n",
    "Builder.load_string(\"\"\"\n",
    "<ImagePane>:\n",
    "    allow_stretch: True\n",
    "\"\"\")\n",
    "\n",
    "class ImagePane(Image):\n",
    "    pass\n"
   ]
  },
  {
   "cell_type": "code",
   "execution_count": 6,
   "metadata": {
    "collapsed": false
   },
   "outputs": [
    {
     "name": "stdout",
     "output_type": "stream",
     "text": [
      "Overwriting selectiontool.kv\n"
     ]
    }
   ],
   "source": [
    "%%writefile selectiontool.kv\n",
    "\n",
    "<SelectionTool>:\n",
    "    orientation: \"vertical\"\n",
    "\n",
    "    book_selector: _book_selector\n",
    "    page_selector: _page_selector\n",
    "    image_pane: _image_pane\n",
    "    word_list: _word_list\n",
    "\n",
    "    book_id: self.book_selector.text\n",
    "    page: self.page_selector.text\n",
    "\n",
    "    BoxLayout:\n",
    "        orientation: 'horizontal'\n",
    "\n",
    "        Widget: # Spacer\n",
    "            size_hint_x: 4\n",
    "\n",
    "        Spinner:\n",
    "            id: _book_selector\n",
    "\n",
    "        Spinner:\n",
    "            id: _page_selector\n",
    "\n",
    "    Button:\n",
    "        text: \"Delete Last Rectangle\"\n",
    "        on_press: root.image_pane.delete_last_rectangle()\n",
    "\n",
    "    BoxLayout:\n",
    "        orientation: 'horizontal'\n",
    "        size_hint_y: 16\n",
    "        BoxLayout:\n",
    "            id: _word_list\n",
    "            size_hint_x: 0.2\n",
    "            orientation: 'vertical'\n",
    "\n",
    "        ImagePane:\n",
    "            id: _image_pane\n",
    "            size_hint_x: 0.8\n",
    "            source: ''"
   ]
  },
  {
   "cell_type": "code",
   "execution_count": 7,
   "metadata": {
    "collapsed": false
   },
   "outputs": [
    {
     "name": "stdout",
     "output_type": "stream",
     "text": [
      "Overwriting selectiontool.py\n"
     ]
    }
   ],
   "source": [
    "%%writefile selectiontool.py\n",
    "\n",
    "import os\n",
    "import glob\n",
    "import json\n",
    "\n",
    "from kivy.uix.boxlayout import BoxLayout\n",
    "from kivy.uix.label import Label\n",
    "from kivy.properties import StringProperty\n",
    "from kivy.lang import Builder\n",
    "\n",
    "from imagepane import ImagePane\n",
    "from selectionbox import SelectionBox # OK, I shuck this in here for later\n",
    "\n",
    "Builder.load_file('selectiontool.kv')\n",
    "\n",
    "\n",
    "class SelectionTool(BoxLayout):\n",
    "    library_directory = 'Example_Data'\n",
    "\n",
    "    book_id = StringProperty()\n",
    "    page = StringProperty()\n",
    "\n",
    "    def __init__(self):\n",
    "        super(SelectionTool, self).__init__()\n",
    "        book_pattern = os.path.join(self.library_directory, '[0-9]' * 4)\n",
    "        self.book_selector.values = [os.path.basename(s) for s in glob.glob(book_pattern)]\n",
    "        self.book_selector.text = self.book_selector.values[0] if self.book_selector.values else 'No Books'\n",
    "\n",
    "    def on_book_id(self, inst=None, value=None):\n",
    "        image_pattern = os.path.join(self.library_directory, self.book_id, '*.jpg')\n",
    "        self.page_selector.values = [os.path.basename(s)[:-4] for s in glob.glob(image_pattern)]\n",
    "        self.page_selector.text = self.page_selector.values[0] if self.page_selector.values else 'No Images'\n",
    "\n",
    "        self.word_list.clear_widgets()\n",
    "        with open(os.path.join(self.library_directory, self.book_id, 'word_list.txt')) as fp:\n",
    "            for word in sorted(fp.readlines()):\n",
    "                self.word_list.add_widget(Label(text=word.strip()))\n",
    "        \n",
    "        self.on_page()\n",
    "\n",
    "    def on_page(self, *_):\n",
    "        page_filename = self.page + '.jpg'\n",
    "        self.image_pane.source = os.path.join(self.library_directory, self.book_id, page_filename)\n",
    "        "
   ]
  },
  {
   "cell_type": "markdown",
   "metadata": {},
   "source": [
    "## Rectangles!"
   ]
  },
  {
   "cell_type": "markdown",
   "metadata": {},
   "source": [
    "Now we're going to add code to draw rectanges on the image when we drag our finger / mouse. \n",
    "\n",
    "We will make a subclass of `Widget` to do this."
   ]
  },
  {
   "cell_type": "code",
   "execution_count": 8,
   "metadata": {
    "collapsed": false
   },
   "outputs": [
    {
     "name": "stdout",
     "output_type": "stream",
     "text": [
      "Writing selectionbox.kv\n"
     ]
    }
   ],
   "source": [
    "%%writefile selectionbox.kv\n",
    "\n",
    "<SelectionBox>:\n",
    "    label: _label\n",
    "    color: (1, 0, 0, 1)\n",
    "    image_pane: None\n",
    "    canvas:\n",
    "        Color:\n",
    "            rgba: root.color\n",
    "        Line:\n",
    "            width: 2.\n",
    "            rectangle: (self.x, self.y, self.width, self.height)\n",
    "    TextInput:\n",
    "        id: _label\n",
    "        multiline: False\n",
    "        size_hint: 1, None\n",
    "        height: 50\n",
    "        center: root.center\n",
    "        on_text: root.image_pane.store_rectangles() if root.image_pane else None\n"
   ]
  },
  {
   "cell_type": "markdown",
   "metadata": {},
   "source": [
    "The `canvas` instruction allows you to draw on the screen. Here we draw an unfilled rectangle. We are also going to keep a pointer to the `ImagePane` that the rectangle is being drawn in.\n",
    "\n",
    "The `TextInput` widget is, as you might guess, a box that we can type in. Here the line\n",
    "```        \n",
    "on_text: root.image_pane.store_rectangles() if root.image_pane else None\n",
    "```\n",
    "calls the image_pane's `store_rectangles()` method.\n",
    "\n"
   ]
  },
  {
   "cell_type": "code",
   "execution_count": 9,
   "metadata": {
    "collapsed": false
   },
   "outputs": [
    {
     "name": "stdout",
     "output_type": "stream",
     "text": [
      "Writing selectionbox.py\n"
     ]
    }
   ],
   "source": [
    "%%writefile selectionbox.py\n",
    "\n",
    "from kivy.uix.widget import Widget\n",
    "from kivy.lang import Builder\n",
    "\n",
    "Builder.load_file('selectionbox.kv')\n",
    "\n",
    "\n",
    "class SelectionBox(Widget):\n",
    "\n",
    "    def __init__(self, image_pane, text='', pos=None, size=None, unit_pos=None, unit_size=None):\n",
    "        super(SelectionBox, self).__init__(pos=pos, size=size)\n",
    "        self.label.text = text\n",
    "        self.image_pane = image_pane\n",
    "        self.unit_pos = unit_pos\n",
    "        self.unit_size = unit_size\n",
    "        \n",
    "    def to_dict(self):\n",
    "        return {'text': self.label.text, 'pos': self.pos, 'size': self.size,\n",
    "                'unit_pos': self.unit_pos, 'unit_size': self.unit_size}\n",
    "\n",
    "    def compute_unit_coordinates(self):\n",
    "        image_pos = [self.image_pane.pos[n] + (self.image_pane.size[n] - self.image_pane.norm_image_size[n]) / 2\n",
    "                     for n in (0, 1)]\n",
    "        self.unit_pos = tuple([(self.pos[n] - image_pos[n]) * 1.0 / self.image_pane.norm_image_size[n] for n in [0, 1]])\n",
    "        self.unit_size = tuple([self.size[n] * 1.0 / self.image_pane.norm_image_size[n] for n in [0, 1]])\n",
    "\n",
    "    def compute_screen_coordinates(self, *_):\n",
    "        image_pos = [self.image_pane.pos[n] + (self.image_pane.size[n] - self.image_pane.norm_image_size[n]) / 2\n",
    "                     for n in (0, 1)]\n",
    "        self.pos = [self.unit_pos[n] * self.image_pane.norm_image_size[n] + image_pos[n] for n in [0, 1]]\n",
    "        self.size = [self.unit_size[n] * self.image_pane.norm_image_size[n] for n in [0, 1]]\n"
   ]
  },
  {
   "cell_type": "markdown",
   "metadata": {},
   "source": [
    "We have a few methods here, basically coordinate conversion."
   ]
  },
  {
   "cell_type": "markdown",
   "metadata": {},
   "source": [
    "We want our `ImagePane` class to created boxes when you drag on the image. When you touch the screen (or click on it with the mouse) Kivy generates touch events, and will call the corresponding touch methods."
   ]
  },
  {
   "cell_type": "code",
   "execution_count": 11,
   "metadata": {
    "collapsed": false
   },
   "outputs": [
    {
     "name": "stdout",
     "output_type": "stream",
     "text": [
      "Overwriting imagepane.py\n"
     ]
    }
   ],
   "source": [
    "%%writefile imagepane.py\n",
    "\n",
    "from kivy.uix.image import Image\n",
    "from kivy.lang import Builder\n",
    "from kivy.app import App\n",
    "\n",
    "from selectionbox import SelectionBox\n",
    "\n",
    "Builder.load_string(\"\"\"\n",
    "<ImagePane>:\n",
    "    allow_stretch: True\n",
    "\"\"\")\n",
    "\n",
    "class ImagePane(Image):\n",
    "\n",
    "    drawing_rectangle = None # rectangle we are in the middle of drawing\n",
    "    rectangles = []\n",
    "\n",
    "    def on_touch_move(self, touch):\n",
    "        if self.collide_point(*touch.pos): # did you touch the ImagePane?\n",
    "            pos = [min(touch.pos[n], touch.opos[n]) for n in [0, 1]]\n",
    "            size = [abs(touch.pos[n] - touch.opos[n]) for n in [0, 1]]\n",
    "            if self.drawing_rectangle is None:\n",
    "                self.drawing_rectangle = SelectionBox(pos=pos, size=size, image_pane=self)\n",
    "                self.add_new_rectangle(self.drawing_rectangle)\n",
    "            else:\n",
    "                self.drawing_rectangle.pos = pos\n",
    "                self.drawing_rectangle.size = size\n",
    "\n",
    "    def on_touch_up(self, touch):\n",
    "        if self.drawing_rectangle:\n",
    "            self.drawing_rectangle.compute_unit_coordinates()\n",
    "            self.drawing_rectangle = None\n",
    "            self.store_rectangles()\n",
    "\n",
    "    def add_new_rectangle(self, rect):\n",
    "        self.add_widget(rect) # this adds the rect Widget to the ImagePane instance programmatically\n",
    "        self.rectangles.append(rect)\n",
    "        \n",
    "    def delete_last_rectangle(self):\n",
    "        if self.rectangles:\n",
    "            bad_rectangle = self.rectangles.pop()\n",
    "            self.remove_widget(bad_rectangle) # this removes the bad_rectangle widget from the ImagePane\n",
    "            self.store_rectangles()\n",
    "\n",
    "    def store_rectangles(self):\n",
    "        pass  # for now\n"
   ]
  },
  {
   "cell_type": "markdown",
   "metadata": {},
   "source": [
    "Note that when there's a touch event, the event goes to all widgets. So the `ImagePane` has to check to see if you're touching it (rather than selecting a spinner, for example)."
   ]
  },
  {
   "cell_type": "code",
   "execution_count": 34,
   "metadata": {
    "collapsed": false
   },
   "outputs": [],
   "source": [
    "#!python main.py"
   ]
  },
  {
   "cell_type": "markdown",
   "metadata": {
    "collapsed": false
   },
   "source": [
    "<img src=\"Images/first_rectangle.png\"/>"
   ]
  },
  {
   "cell_type": "markdown",
   "metadata": {},
   "source": [
    "The delete button doesn't crash the app anymore!\n",
    "\n",
    "However, when we change pages the boxes are still there. Note that in `on_page()` we change the `ImagePane` `source`. This loads the new image. We don't create a new `ImagePane` object. This the `SelectionBox` widgets that we've added to the `ImagePane` are still there."
   ]
  },
  {
   "cell_type": "code",
   "execution_count": 12,
   "metadata": {
    "collapsed": false
   },
   "outputs": [
    {
     "name": "stdout",
     "output_type": "stream",
     "text": [
      "Appending to imagepane.py\n"
     ]
    }
   ],
   "source": [
    "%%writefile -a imagepane.py\n",
    "\n",
    "    def clear_rectangles(self):\n",
    "        self.rectangles = []\n",
    "        self.clear_widgets()\n"
   ]
  },
  {
   "cell_type": "code",
   "execution_count": 13,
   "metadata": {
    "collapsed": false
   },
   "outputs": [
    {
     "name": "stdout",
     "output_type": "stream",
     "text": [
      "Appending to selectiontool.py\n"
     ]
    }
   ],
   "source": [
    "%%writefile -a selectiontool.py\n",
    "\n",
    "    def on_page(self, *_):\n",
    "        page_filename = self.page + '.jpg'\n",
    "        self.image_pane.source = os.path.join(self.library_directory, self.book_id, page_filename)\n",
    "        self.image_pane.clear_rectangles() # new line"
   ]
  },
  {
   "cell_type": "code",
   "execution_count": 38,
   "metadata": {
    "collapsed": false
   },
   "outputs": [],
   "source": [
    "#!python main.py"
   ]
  },
  {
   "cell_type": "markdown",
   "metadata": {},
   "source": [
    "They're gone now... For good. That's not exactly what we want. Let's keep track of all the rectangles for all the books and pages, then in `on_page()` we can add the rectangles for that page."
   ]
  },
  {
   "cell_type": "markdown",
   "metadata": {},
   "source": [
    "## Rectangles - but better this time"
   ]
  },
  {
   "cell_type": "markdown",
   "metadata": {},
   "source": [
    "Let's store all the rectangles in a dict keyed by `book_id` and `page`."
   ]
  },
  {
   "cell_type": "code",
   "execution_count": 14,
   "metadata": {
    "collapsed": false
   },
   "outputs": [
    {
     "name": "stdout",
     "output_type": "stream",
     "text": [
      "Appending to selectiontool.py\n"
     ]
    }
   ],
   "source": [
    "%%writefile -a selectiontool.py\n",
    "\n",
    "    def __init__(self):\n",
    "        super(SelectionTool, self).__init__()\n",
    "        self.all_rectangles = {} # this is new\n",
    "\n",
    "        book_pattern = os.path.join(self.library_directory, '[0-9]' * 4)\n",
    "        self.book_selector.values = [os.path.basename(s) for s in glob.glob(book_pattern)]\n",
    "        self.book_selector.text = self.book_selector.values[0] if self.book_selector.values else 'No Books'\n",
    "\n",
    "        self.on_book_id()\n",
    "    \n",
    "    def on_page(self, *_):\n",
    "        page_filename = self.page + '.jpg'\n",
    "        self.image_pane.source = os.path.join(self.library_directory, self.book_id, page_filename)\n",
    "        self.image_pane.clear_rectangles()\n",
    "        try:\n",
    "            for rect in self.all_rectangles[self.book_id][self.page]: # add this try/except block\n",
    "                self.image_pane.add_new_rectangle(rect)\n",
    "        except KeyError:\n",
    "            pass\n",
    "\n",
    "    def store_rectangles(self, rect_list):\n",
    "        if self.book_id not in self.all_rectangles:\n",
    "            self.all_rectangles[self.book_id] = {}\n",
    "        self.all_rectangles[self.book_id].update({self.page: [r for r in rect_list]})"
   ]
  },
  {
   "cell_type": "code",
   "execution_count": 15,
   "metadata": {
    "collapsed": false
   },
   "outputs": [
    {
     "name": "stdout",
     "output_type": "stream",
     "text": [
      "Appending to imagepane.py\n"
     ]
    }
   ],
   "source": [
    "%%writefile -a imagepane.py\n",
    "\n",
    "    def store_rectangles(self):\n",
    "        App.get_running_app().root.store_rectangles(self.rectangles)\n"
   ]
  },
  {
   "cell_type": "code",
   "execution_count": 24,
   "metadata": {
    "collapsed": false
   },
   "outputs": [],
   "source": [
    "#!python main.py"
   ]
  },
  {
   "cell_type": "markdown",
   "metadata": {},
   "source": [
    "## Load and save rectangles"
   ]
  },
  {
   "cell_type": "markdown",
   "metadata": {},
   "source": [
    "Finally let's save the rectangles on disk."
   ]
  },
  {
   "cell_type": "code",
   "execution_count": 16,
   "metadata": {
    "collapsed": false
   },
   "outputs": [
    {
     "name": "stdout",
     "output_type": "stream",
     "text": [
      "Appending to selectiontool.py\n"
     ]
    }
   ],
   "source": [
    "%%writefile -a selectiontool.py\n",
    "    \n",
    "    def __init__(self):\n",
    "        super(SelectionTool, self).__init__()\n",
    "        self.all_rectangles = {}\n",
    "        self.rectangles_filename = 'rectangles.json'  # <-- added this\n",
    "        self.load_rectangles()  # <-- added this\n",
    "        \n",
    "        book_pattern = os.path.join(self.library_directory, '[0-9]' * 4)\n",
    "        self.book_selector.values = [os.path.basename(s) for s in glob.glob(book_pattern)]\n",
    "        self.book_selector.text = self.book_selector.values[0] if self.book_selector.values else 'No Books'\n",
    "\n",
    "        self.on_book_id()\n",
    "\n",
    "    def store_rectangles(self, rect_list):\n",
    "        if self.book_id not in self.all_rectangles:\n",
    "            self.all_rectangles[self.book_id] = {}\n",
    "        self.all_rectangles[self.book_id].update({self.page: [r for r in rect_list]})\n",
    "        self.save_rectangles()\n",
    "\n",
    "    def load_rectangles(self):\n",
    "        self.all_rectangles = {}\n",
    "        try:\n",
    "            with open(self.rectangles_filename) as fd:\n",
    "                all_rectangles_dict = json.load(fd)\n",
    "                for book_id, book_rectangles in all_rectangles_dict.items():\n",
    "                    self.all_rectangles[book_id] = {}\n",
    "                    for page, rectangles in book_rectangles.items():\n",
    "                        self.all_rectangles[book_id][page] = \\\n",
    "                            [SelectionBox(image_pane=self.image_pane, **rect) for rect in rectangles]\n",
    "        except IOError:\n",
    "            print(\"Can't find rectangles file!\")\n",
    "        \n",
    "    def save_rectangles(self):\n",
    "        rectangle_dict = {}\n",
    "        for book_id, book_rectangles in self.all_rectangles.items():\n",
    "            for page, rectangles in book_rectangles.items():\n",
    "                page_dict = {page: [rect.to_dict() for rect in rectangles]}\n",
    "                if rectangles:\n",
    "                    rectangle_dict[book_id] = rectangle_dict.get(book_id, {})\n",
    "                    rectangle_dict[book_id].update(page_dict)\n",
    "        \n",
    "        with open(self.rectangles_filename, 'w') as fd:\n",
    "            json.dump(rectangle_dict, fd, sort_keys=True, indent=4, separators=(',', ': '))\n"
   ]
  },
  {
   "cell_type": "code",
   "execution_count": 29,
   "metadata": {
    "collapsed": false
   },
   "outputs": [],
   "source": [
    "#!python main.py"
   ]
  },
  {
   "cell_type": "code",
   "execution_count": 19,
   "metadata": {
    "collapsed": false
   },
   "outputs": [
    {
     "name": "stdout",
     "output_type": "stream",
     "text": [
      "{\r\n",
      "    \"0001\": {\r\n",
      "        \"01\": [\r\n",
      "            {\r\n",
      "                \"pos\": [\r\n",
      "                    490.00000000000006,\r\n",
      "                    884.0\r\n",
      "                ],\r\n",
      "                \"size\": [\r\n",
      "                    169.99999999999994,\r\n",
      "                    160.0\r\n",
      "                ],\r\n",
      "                \"text\": \"sun\",\r\n",
      "                \"unit_pos\": [\r\n",
      "                    0.05937500000000009,\r\n",
      "                    0.82875\r\n",
      "                ],\r\n",
      "                \"unit_size\": [\r\n",
      "                    0.15937499999999993,\r\n",
      "                    0.15\r\n",
      "                ]\r\n",
      "            }\r\n",
      "        ]\r\n",
      "    }\r\n",
      "}"
     ]
    }
   ],
   "source": [
    "!cat rectangles.json"
   ]
  },
  {
   "cell_type": "markdown",
   "metadata": {
    "collapsed": true
   },
   "source": [
    "## Exercise\n",
    "\n",
    "Add a button that toggles your name appearing in the middle of the image."
   ]
  },
  {
   "cell_type": "code",
   "execution_count": null,
   "metadata": {
    "collapsed": true
   },
   "outputs": [],
   "source": []
  },
  {
   "cell_type": "code",
   "execution_count": null,
   "metadata": {
    "collapsed": true
   },
   "outputs": [],
   "source": []
  },
  {
   "cell_type": "code",
   "execution_count": null,
   "metadata": {
    "collapsed": true
   },
   "outputs": [],
   "source": []
  },
  {
   "cell_type": "code",
   "execution_count": null,
   "metadata": {
    "collapsed": true
   },
   "outputs": [],
   "source": []
  },
  {
   "cell_type": "code",
   "execution_count": null,
   "metadata": {
    "collapsed": true
   },
   "outputs": [],
   "source": []
  },
  {
   "cell_type": "code",
   "execution_count": null,
   "metadata": {
    "collapsed": true
   },
   "outputs": [],
   "source": []
  },
  {
   "cell_type": "code",
   "execution_count": null,
   "metadata": {
    "collapsed": true
   },
   "outputs": [],
   "source": []
  },
  {
   "cell_type": "code",
   "execution_count": null,
   "metadata": {
    "collapsed": true
   },
   "outputs": [],
   "source": []
  },
  {
   "cell_type": "code",
   "execution_count": null,
   "metadata": {
    "collapsed": true
   },
   "outputs": [],
   "source": []
  },
  {
   "cell_type": "code",
   "execution_count": null,
   "metadata": {
    "collapsed": true
   },
   "outputs": [],
   "source": []
  },
  {
   "cell_type": "code",
   "execution_count": null,
   "metadata": {
    "collapsed": true
   },
   "outputs": [],
   "source": []
  },
  {
   "cell_type": "code",
   "execution_count": null,
   "metadata": {
    "collapsed": true
   },
   "outputs": [],
   "source": []
  },
  {
   "cell_type": "code",
   "execution_count": null,
   "metadata": {
    "collapsed": true
   },
   "outputs": [],
   "source": []
  }
 ],
 "metadata": {
  "kernelspec": {
   "display_name": "Python 2",
   "language": "python",
   "name": "python2"
  },
  "language_info": {
   "codemirror_mode": {
    "name": "ipython",
    "version": 2
   },
   "file_extension": ".py",
   "mimetype": "text/x-python",
   "name": "python",
   "nbconvert_exporter": "python",
   "pygments_lexer": "ipython2",
   "version": "2.7.13"
  }
 },
 "nbformat": 4,
 "nbformat_minor": 2
}
