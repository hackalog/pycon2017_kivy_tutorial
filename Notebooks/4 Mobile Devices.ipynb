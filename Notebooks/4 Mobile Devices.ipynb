{
 "cells": [
  {
   "cell_type": "markdown",
   "metadata": {},
   "source": [
    "# “Without pain, without sacrifice, we would have nothing.”  -- Fight Club"
   ]
  },
  {
   "cell_type": "markdown",
   "metadata": {},
   "source": [
    "## Recap"
   ]
  },
  {
   "cell_type": "markdown",
   "metadata": {},
   "source": [
    "### Main"
   ]
  },
  {
   "cell_type": "code",
   "execution_count": 1,
   "metadata": {
    "collapsed": false
   },
   "outputs": [
    {
     "name": "stdout",
     "output_type": "stream",
     "text": [
      "Overwriting main.kv\n"
     ]
    }
   ],
   "source": [
    "%%writefile main.kv\n",
    "\n",
    "<Widget>:\n",
    "    canvas:\n",
    "        Color:\n",
    "            rgba: .5,.5,.5,.5\n",
    "        Line:\n",
    "            rectangle: self.x, self.y, self.width, self.height\n",
    "            width: 2"
   ]
  },
  {
   "cell_type": "code",
   "execution_count": 2,
   "metadata": {
    "collapsed": false
   },
   "outputs": [
    {
     "name": "stdout",
     "output_type": "stream",
     "text": [
      "Overwriting main.py\n"
     ]
    }
   ],
   "source": [
    "%%writefile main.py\n",
    "\n",
    "from kivy.app import App\n",
    "from selectiontool import SelectionTool\n",
    "\n",
    "\n",
    "class MainApp(App):\n",
    "    title = 'Image Selection Tool'\n",
    "\n",
    "    def build(self):\n",
    "        return SelectionTool()\n",
    "\n",
    "\n",
    "if __name__ == '__main__':\n",
    "    MainApp().run()"
   ]
  },
  {
   "cell_type": "markdown",
   "metadata": {},
   "source": [
    "### ImagePane"
   ]
  },
  {
   "cell_type": "code",
   "execution_count": 3,
   "metadata": {
    "collapsed": false
   },
   "outputs": [
    {
     "name": "stdout",
     "output_type": "stream",
     "text": [
      "Overwriting imagepane.kv\n"
     ]
    }
   ],
   "source": [
    "%%writefile imagepane.kv\n",
    "\n",
    "<ImagePane>:\n",
    "    allow_stretch: True\n",
    "    on_size: self.redraw_rectangles()\n",
    "    on_pos: self.redraw_rectangles()\n"
   ]
  },
  {
   "cell_type": "code",
   "execution_count": 4,
   "metadata": {
    "collapsed": false
   },
   "outputs": [
    {
     "name": "stdout",
     "output_type": "stream",
     "text": [
      "Overwriting imagepane.py\n"
     ]
    }
   ],
   "source": [
    "%%writefile imagepane.py\n",
    "\n",
    "from kivy.uix.image import Image\n",
    "from kivy.lang import Builder\n",
    "from kivy.app import App\n",
    "\n",
    "from selectionbox import SelectionBox\n",
    "\n",
    "Builder.load_file(\"imagepane.kv\")\n",
    "\n",
    "\n",
    "class ImagePane(Image):\n",
    "\n",
    "    drawing_rectangle = None\n",
    "    rectangles = []\n",
    "\n",
    "    \n",
    "    def __init__(self, **kwargs):\n",
    "        super(ImagePane, self).__init__(**kwargs)\n",
    "        self.register_event_type('on_store_rectangles')\n",
    "    \n",
    "    def on_store_rectangles(self, *args, **kwargs):\n",
    "        pass\n",
    "\n",
    "    def on_touch_move(self, touch):\n",
    "        if self.collide_point(*touch.pos):\n",
    "            pos = [min(touch.pos[n], touch.opos[n]) for n in [0, 1]]\n",
    "            size = [abs(touch.pos[n] - touch.opos[n]) for n in [0, 1]]\n",
    "            if self.drawing_rectangle is None:\n",
    "                self.drawing_rectangle = SelectionBox(pos=pos, size=size, image_pane=self)\n",
    "                self.add_new_rectangle(self.drawing_rectangle)\n",
    "            else:\n",
    "                self.drawing_rectangle.pos = pos\n",
    "                self.drawing_rectangle.size = size\n",
    "\n",
    "    def on_touch_up(self, touch):\n",
    "        if self.drawing_rectangle:\n",
    "            self.drawing_rectangle.compute_unit_coordinates()\n",
    "            self.drawing_rectangle = None\n",
    "            self.store_rectangles()\n",
    "\n",
    "    def add_new_rectangle(self, rect):\n",
    "        self.add_widget(rect)\n",
    "        self.rectangles.append(rect)\n",
    "        \n",
    "    def delete_last_rectangle(self):\n",
    "        if self.rectangles:\n",
    "            bad_rectangle = self.rectangles.pop()\n",
    "            self.remove_widget(bad_rectangle)\n",
    "            self.store_rectangles()\n",
    "            \n",
    "    def clear_rectangles(self):\n",
    "        self.rectangles = []\n",
    "        self.clear_widgets()\n",
    "\n",
    "    def store_rectangles(self):\n",
    "        self.dispatch('on_store_rectangles', rectangles=self.rectangles)\n",
    "\n",
    "    def redraw_rectangles(self):\n",
    "        for rect in self.rectangles:\n",
    "            rect.compute_screen_coordinates()\n"
   ]
  },
  {
   "cell_type": "markdown",
   "metadata": {},
   "source": [
    "### SelectionBox"
   ]
  },
  {
   "cell_type": "code",
   "execution_count": 5,
   "metadata": {
    "collapsed": false
   },
   "outputs": [
    {
     "name": "stdout",
     "output_type": "stream",
     "text": [
      "Overwriting selectionbox.kv\n"
     ]
    }
   ],
   "source": [
    "%%writefile selectionbox.kv\n",
    "\n",
    "<SelectionBox>:\n",
    "    label: _label\n",
    "    color: (1, 0, 0, 1)\n",
    "    image_pane: None\n",
    "    canvas:\n",
    "        Color:\n",
    "            rgba: root.color\n",
    "        Line:\n",
    "            width: 2.\n",
    "            rectangle: (self.x, self.y, self.width, self.height)\n",
    "    TextInput:\n",
    "        id: _label\n",
    "        multiline: False\n",
    "        size_hint: 1, None\n",
    "        height: 50\n",
    "        center: root.center\n",
    "        on_text: root.image_pane.store_rectangles() if root.image_pane else None\n"
   ]
  },
  {
   "cell_type": "code",
   "execution_count": 6,
   "metadata": {
    "collapsed": false
   },
   "outputs": [
    {
     "name": "stdout",
     "output_type": "stream",
     "text": [
      "Overwriting selectionbox.py\n"
     ]
    }
   ],
   "source": [
    "%%writefile selectionbox.py\n",
    "\n",
    "from kivy.uix.widget import Widget\n",
    "from kivy.lang import Builder\n",
    "\n",
    "Builder.load_file('selectionbox.kv')\n",
    "\n",
    "\n",
    "class SelectionBox(Widget):\n",
    "\n",
    "    def __init__(self, image_pane, text='', pos=None, size=None, unit_pos=None, unit_size=None):\n",
    "        super(SelectionBox, self).__init__(pos=pos, size=size)\n",
    "        self.label.text = text\n",
    "        self.image_pane = image_pane\n",
    "        self.unit_pos = unit_pos\n",
    "        self.unit_size = unit_size\n",
    "        \n",
    "    def to_dict(self):\n",
    "        return {'text': self.label.text, 'pos': self.pos, 'size': self.size,\n",
    "                'unit_pos': self.unit_pos, 'unit_size': self.unit_size}\n",
    "\n",
    "    def compute_unit_coordinates(self):\n",
    "        image_pos = [self.image_pane.pos[n] + (self.image_pane.size[n] - self.image_pane.norm_image_size[n]) / 2\n",
    "                     for n in (0, 1)]\n",
    "        self.unit_pos = tuple([(self.pos[n] - image_pos[n]) * 1.0 / self.image_pane.norm_image_size[n] for n in [0, 1]])\n",
    "        self.unit_size = tuple([self.size[n] * 1.0 / self.image_pane.norm_image_size[n] for n in [0, 1]])\n",
    "\n",
    "    def compute_screen_coordinates(self, *_):\n",
    "        image_pos = [self.image_pane.pos[n] + (self.image_pane.size[n] - self.image_pane.norm_image_size[n]) / 2\n",
    "                     for n in (0, 1)]\n",
    "        self.pos = [self.unit_pos[n] * self.image_pane.norm_image_size[n] + image_pos[n] for n in [0, 1]]\n",
    "        self.size = [self.unit_size[n] * self.image_pane.norm_image_size[n] for n in [0, 1]]\n"
   ]
  },
  {
   "cell_type": "markdown",
   "metadata": {},
   "source": [
    "### SelectionTool"
   ]
  },
  {
   "cell_type": "code",
   "execution_count": 7,
   "metadata": {
    "collapsed": false
   },
   "outputs": [
    {
     "name": "stdout",
     "output_type": "stream",
     "text": [
      "Overwriting selectiontool.kv\n"
     ]
    }
   ],
   "source": [
    "%%writefile selectiontool.kv\n",
    "\n",
    "<SelectionTool>:\n",
    "    orientation: \"vertical\"\n",
    "\n",
    "    book_selector: _book_selector\n",
    "    page_selector: _page_selector\n",
    "    image_pane: _image_pane\n",
    "    word_list: _word_list\n",
    "\n",
    "    book_id: self.book_selector.text\n",
    "    page: self.page_selector.text\n",
    "\n",
    "    BoxLayout:\n",
    "        orientation: 'horizontal'\n",
    "\n",
    "        Label: # Spacer\n",
    "            size_hint_x: 4\n",
    "\n",
    "        Spinner:\n",
    "            id: _book_selector\n",
    "\n",
    "        Spinner:\n",
    "            id: _page_selector\n",
    "\n",
    "    Button:\n",
    "        text: \"Delete Last Rectangle\"\n",
    "        on_press: root.image_pane.delete_last_rectangle()\n",
    "\n",
    "    BoxLayout:\n",
    "        orientation: 'horizontal'\n",
    "        size_hint_y: 16\n",
    "        BoxLayout:\n",
    "            id: _word_list\n",
    "            size_hint_x: 0.2\n",
    "            orientation: 'vertical'\n",
    "\n",
    "        ImagePane:\n",
    "            id: _image_pane\n",
    "            size_hint_x: 0.8\n",
    "            source: ''"
   ]
  },
  {
   "cell_type": "code",
   "execution_count": 2,
   "metadata": {
    "collapsed": false
   },
   "outputs": [
    {
     "name": "stdout",
     "output_type": "stream",
     "text": [
      "Overwriting selectiontool.py\n"
     ]
    }
   ],
   "source": [
    "%%writefile selectiontool.py\n",
    "\n",
    "import os\n",
    "import glob\n",
    "import json\n",
    "\n",
    "from kivy.uix.boxlayout import BoxLayout\n",
    "from kivy.uix.label import Label\n",
    "from kivy.properties import StringProperty\n",
    "from kivy.lang import Builder\n",
    "from kivy.app import App\n",
    "import kivy \n",
    "\n",
    "from imagepane import ImagePane\n",
    "from selectionbox import SelectionBox\n",
    "\n",
    "Builder.load_file('selectiontool.kv')\n",
    "\n",
    "\n",
    "class SelectionTool(BoxLayout):\n",
    "    library_directory = 'Example_Data'\n",
    "    book_id = StringProperty()\n",
    "    page = StringProperty()\n",
    "\n",
    "    def __init__(self):\n",
    "        super(SelectionTool, self).__init__()\n",
    "        self.image_pane.bind(on_store_rectangles=self.store_rectangles)\n",
    "        self.all_rectangles = {}\n",
    "        self.rectangles_filename = 'rectangles.json'\n",
    "        self.load_rectangles()\n",
    "        \n",
    "        book_pattern = os.path.join(self.library_directory, '[0-9]' * 4)\n",
    "        self.book_selector.values = [os.path.basename(s) for s in glob.glob(book_pattern)]\n",
    "        self.book_selector.text = self.book_selector.values[0] if self.book_selector.values else 'No Books'\n",
    "\n",
    "        self.on_book_id()\n",
    "        \n",
    "    def on_book_id(self, inst=None, value=None):\n",
    "        image_pattern = os.path.join(self.library_directory, self.book_id, '*.jpg')\n",
    "        self.page_selector.values = [os.path.basename(s)[:-4] for s in glob.glob(image_pattern)]\n",
    "        self.page_selector.text = self.page_selector.values[0] if self.page_selector.values else 'No Images'\n",
    "        \n",
    "        self.word_list.clear_widgets()\n",
    "        with open(os.path.join(self.library_directory, self.book_id, 'word_list.txt')) as fp:\n",
    "            for word in sorted(fp.readlines()):\n",
    "                self.word_list.add_widget(Label(text=word.strip()))\n",
    "        self.color_word_list()\n",
    "        \n",
    "        self.on_page()\n",
    "    \n",
    "    def on_page(self, *_):\n",
    "        page_filename = self.page + '.jpg'\n",
    "        self.image_pane.source = os.path.join(self.library_directory, self.book_id, page_filename)\n",
    "        self.image_pane.clear_rectangles()\n",
    "        try:\n",
    "            for rect in self.all_rectangles[self.book_id][self.page]:\n",
    "                rect.compute_screen_coordinates()\n",
    "                self.image_pane.add_new_rectangle(rect)\n",
    "        except KeyError:\n",
    "            pass\n",
    "        \n",
    "    def store_rectangles(self, sender=None, rectangles=[]):\n",
    "        if self.book_id not in self.all_rectangles:\n",
    "            self.all_rectangles[self.book_id] = {}\n",
    "        self.all_rectangles[self.book_id].update({self.page: [r for r in rectangles]})\n",
    "        self.color_word_list()\n",
    "        self.save_rectangles()\n",
    "\n",
    "    def load_rectangles(self):\n",
    "        self.all_rectangles = {}\n",
    "        try:\n",
    "            with open(self.rectangles_filename) as fd:\n",
    "                all_rectangles_dict = json.load(fd)\n",
    "                for book_id, book_rectangles in all_rectangles_dict.items():\n",
    "                    self.all_rectangles[book_id] = {}\n",
    "                    for page, rectangles in book_rectangles.items():\n",
    "                        self.all_rectangles[book_id][page] = \\\n",
    "                            [SelectionBox(image_pane=self.image_pane, **rect) for rect in rectangles]\n",
    "        except IOError:\n",
    "            print(\"Can't find rectangles file!\")\n",
    "        \n",
    "    def save_rectangles(self):\n",
    "        rectangle_dict = {}\n",
    "        for book_id, book_rectangles in self.all_rectangles.items():\n",
    "            for page, rectangles in book_rectangles.items():\n",
    "                page_dict = {page: [rect.to_dict() for rect in rectangles]}\n",
    "                if rectangles:\n",
    "                    rectangle_dict[book_id] = rectangle_dict.get(book_id, {})\n",
    "                    rectangle_dict[book_id].update(page_dict)\n",
    "        \n",
    "        with open(self.rectangles_filename, 'w') as fd:\n",
    "            json.dump(rectangle_dict, fd, sort_keys=True, indent=4, separators=(',', ': '))\n",
    "     \n",
    "    def color_word_list(self):\n",
    "        if self.book_id in self.all_rectangles:\n",
    "            rectangle_labels = [rect.label.text for page_rects in self.all_rectangles[self.book_id].values()\n",
    "                                for rect in page_rects]\n",
    "        else:\n",
    "            rectangle_labels = []\n",
    "            \n",
    "        for label in self.word_list.children:\n",
    "            label.color = (0, 1, 0, 1) if label.text in rectangle_labels else (1, 1, 1, 1)\n"
   ]
  },
  {
   "cell_type": "markdown",
   "metadata": {},
   "source": [
    "# Getting this working on iOS"
   ]
  },
  {
   "cell_type": "markdown",
   "metadata": {},
   "source": [
    "You'll need to be using a Mac for this, unfortunately.\n",
    "\n",
    "First we need to modify our code slightly. Apple restricts where we can write data. In particular, we can't write it in the same location as the files we will install on the device.\n",
    "\n",
    "Instead, iOS provides a documents directory for us. Kivy gives us the location (as well as a similar good location on Android and other platforms) via the `user_data_dir` property.\n",
    "\n",
    "Note that above we snuck in an `import kivy` into `selectiontool.py`."
   ]
  },
  {
   "cell_type": "code",
   "execution_count": 3,
   "metadata": {
    "collapsed": false
   },
   "outputs": [
    {
     "name": "stdout",
     "output_type": "stream",
     "text": [
      "Appending to selectiontool.py\n"
     ]
    }
   ],
   "source": [
    "%%writefile -a selectiontool.py\n",
    "\n",
    "    def __init__(self):\n",
    "        super(SelectionTool, self).__init__()\n",
    "        self.image_pane.bind(on_store_rectangles=self.store_rectangles)\n",
    "        self.all_rectangles = {}\n",
    "        if kivy.platform == 'ios': # <-- deal with iOS\n",
    "            self.rectangles_filename = os.path.join(App.get_running_app().user_data_dir, 'rectangles.json')\n",
    "        else:\n",
    "            self.rectangles_filename = 'rectangles.json'\n",
    "        self.load_rectangles()\n",
    "        \n",
    "        book_pattern = os.path.join(self.library_directory, '[0-9]' * 4)\n",
    "        self.book_selector.values = [os.path.basename(s) for s in glob.glob(book_pattern)]\n",
    "        self.book_selector.text = self.book_selector.values[0] if self.book_selector.values else 'No Books'\n"
   ]
  },
  {
   "cell_type": "code",
   "execution_count": 10,
   "metadata": {
    "collapsed": false
   },
   "outputs": [],
   "source": [
    "#!python main.py"
   ]
  },
  {
   "cell_type": "markdown",
   "metadata": {},
   "source": [
    "## kivy-ios"
   ]
  },
  {
   "cell_type": "markdown",
   "metadata": {},
   "source": [
    "Install https://github.com/kivy/kivy-ios as described in the Readme.\n",
    "\n",
    "Build the kivy files."
   ]
  },
  {
   "cell_type": "raw",
   "metadata": {},
   "source": [
    "./toolchain.py build kivy"
   ]
  },
  {
   "cell_type": "markdown",
   "metadata": {},
   "source": [
    "This will take a long time, maybe half an hour or so."
   ]
  },
  {
   "cell_type": "markdown",
   "metadata": {
    "collapsed": true
   },
   "source": [
    "## Build the project"
   ]
  },
  {
   "cell_type": "markdown",
   "metadata": {},
   "source": [
    "Assuming you've checked out `kivy-ios` and this repo at the same level, go into the main dir of this repo and:"
   ]
  },
  {
   "cell_type": "raw",
   "metadata": {},
   "source": [
    "../kivy-ios/toolchain.py create kivy_tutorial Notebooks"
   ]
  },
  {
   "cell_type": "markdown",
   "metadata": {},
   "source": [
    "Boom! You have an xCode project! Well, unless something didn't work.  `¯\\_(ツ)_/¯`\n",
    "\n",
    "Assuming things worked..."
   ]
  },
  {
   "cell_type": "markdown",
   "metadata": {},
   "source": [
    "## Edit and run the project!"
   ]
  },
  {
   "cell_type": "raw",
   "metadata": {},
   "source": [
    "open kivy_tutorial-ios/kivy_tutorial.xcodeproj"
   ]
  },
  {
   "cell_type": "markdown",
   "metadata": {},
   "source": [
    "You'll have to edit a few things to get it to work. In particular, \n",
    "* Build Settings->Build Options->Enable Bitcode set to \"No\"\n",
    "<img src=\"Images/disable_bitcode.png\"/>\n",
    "* add some libraries that aren't there by default unfortunately: libz.tbd, libsqlite3.tbd, libc++.tbd\n",
    "<img src=\"Images/add_libraries.png\"/>"
   ]
  },
  {
   "cell_type": "markdown",
   "metadata": {},
   "source": [
    "At this point you should be able to run on the simulator (note: Sometimes buggy)\n",
    "<img src=\"Images/run_on_simulator.png\"/>\n",
    "<img src=\"Images/running_on_simulator.png\"/>"
   ]
  },
  {
   "cell_type": "markdown",
   "metadata": {},
   "source": [
    "To run on a device, you'll have to set up code signing. \n",
    "* To test things on your own device, you don't need to pay, see http://blog.ionic.io/deploying-to-a-device-without-an-apple-developer-account/\n",
    "* To deploy on other people's devices and put in the App Store, you'll need a paid Apple Developer Account."
   ]
  },
  {
   "cell_type": "code",
   "execution_count": null,
   "metadata": {
    "collapsed": true
   },
   "outputs": [],
   "source": []
  }
 ],
 "metadata": {
  "kernelspec": {
   "display_name": "Python 2",
   "language": "python",
   "name": "python2"
  },
  "language_info": {
   "codemirror_mode": {
    "name": "ipython",
    "version": 2
   },
   "file_extension": ".py",
   "mimetype": "text/x-python",
   "name": "python",
   "nbconvert_exporter": "python",
   "pygments_lexer": "ipython2",
   "version": "2.7.13"
  }
 },
 "nbformat": 4,
 "nbformat_minor": 2
}
