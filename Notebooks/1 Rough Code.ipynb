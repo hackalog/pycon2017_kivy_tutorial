{
 "cells": [
  {
   "cell_type": "markdown",
   "metadata": {},
   "source": [
    "# Recap"
   ]
  },
  {
   "cell_type": "code",
   "execution_count": 1,
   "metadata": {
    "collapsed": false
   },
   "outputs": [
    {
     "name": "stdout",
     "output_type": "stream",
     "text": [
      "Overwriting main.kv\n"
     ]
    }
   ],
   "source": [
    "%%writefile main.kv\n",
    "\n",
    "#:import random random\n",
    "\n",
    "<Widget>:\n",
    "    canvas:\n",
    "        Color:\n",
    "            rgba: .5,.5,.5,.5\n",
    "        Line:\n",
    "            rectangle: self.x, self.y, self.width, self.height\n",
    "            width: 2\n",
    "                \n",
    "<DebugLabel@Button>:\n",
    "    size: self.parent.size\n",
    "    pos: self.parent.pos\n",
    "    background_color: random.random(), random.random(), random.random(), 0.6\n",
    "    text: 'debuglabel'\n"
   ]
  },
  {
   "cell_type": "code",
   "execution_count": 2,
   "metadata": {
    "collapsed": false
   },
   "outputs": [
    {
     "name": "stdout",
     "output_type": "stream",
     "text": [
      "Overwriting main.py\n"
     ]
    }
   ],
   "source": [
    "%%writefile main.py\n",
    "\n",
    "from kivy.app import App\n",
    "from selectiontool import SelectionTool\n",
    "\n",
    "\n",
    "class MainApp(App):\n",
    "    title = 'Image Selection Tool'\n",
    "\n",
    "    def build(self):\n",
    "        return SelectionTool()\n",
    "\n",
    "\n",
    "if __name__ == '__main__':\n",
    "    MainApp().run()"
   ]
  },
  {
   "cell_type": "code",
   "execution_count": 3,
   "metadata": {
    "collapsed": false
   },
   "outputs": [
    {
     "name": "stdout",
     "output_type": "stream",
     "text": [
      "Overwriting selectiontool.py\n"
     ]
    }
   ],
   "source": [
    "%%writefile selectiontool.py\n",
    "\n",
    "from kivy.lang import Builder\n",
    "from kivy.uix.boxlayout import BoxLayout\n",
    "\n",
    "Builder.load_file('selectiontool.kv')\n",
    "\n",
    "class SelectionTool(BoxLayout):\n",
    "    pass\n"
   ]
  },
  {
   "cell_type": "code",
   "execution_count": 4,
   "metadata": {
    "collapsed": false
   },
   "outputs": [
    {
     "name": "stdout",
     "output_type": "stream",
     "text": [
      "Overwriting selectiontool.kv\n"
     ]
    }
   ],
   "source": [
    "%%writefile selectiontool.kv\n",
    "\n",
    "<SelectionTool>:\n",
    "    orientation: \"vertical\"\n",
    "\n",
    "    BoxLayout:\n",
    "        orientation: \"horizontal\"\n",
    "            \n",
    "        DebugLabel:\n",
    "            text: \"\"\n",
    "            size_hint_x: 4\n",
    "        DebugLabel:\n",
    "            text: \"Book\"\n",
    "        DebugLabel:\n",
    "            text: \"Page\"\n",
    "\n",
    "    DebugLabel:\n",
    "        text: \"Delete\"\n",
    "\n",
    "    BoxLayout:\n",
    "        size_hint_y: 16\n",
    "        orientation: \"horizontal\"\n",
    "        DebugLabel:\n",
    "            text: \"Words\"\n",
    "            size_hint_x: 0.2\n",
    "        DebugLabel:\n",
    "            text: \"Image\"\n",
    "            size_hint_x: 0.8\n"
   ]
  },
  {
   "cell_type": "markdown",
   "metadata": {},
   "source": [
    "# Tool layout"
   ]
  },
  {
   "cell_type": "markdown",
   "metadata": {},
   "source": [
    "Let's replace the mockup `selectiontool.kv` with the real one."
   ]
  },
  {
   "cell_type": "code",
   "execution_count": 5,
   "metadata": {
    "collapsed": false
   },
   "outputs": [
    {
     "name": "stdout",
     "output_type": "stream",
     "text": [
      "Overwriting selectiontool.kv\n"
     ]
    }
   ],
   "source": [
    "%%writefile selectiontool.kv\n",
    "\n",
    "<SelectionTool>:\n",
    "    orientation: \"vertical\"\n",
    "\n",
    "    book_selector: _book_selector\n",
    "    page_selector: _page_selector\n",
    "    image_pane: _image_pane\n",
    "    word_list: _word_list\n",
    "\n",
    "    book_id: self.book_selector.text\n",
    "    page: self.page_selector.text\n",
    "\n",
    "    BoxLayout:\n",
    "        orientation: 'horizontal'\n",
    "\n",
    "        Widget:\n",
    "            size_hint_x: 4\n",
    "\n",
    "        Spinner:\n",
    "            id: _book_selector\n",
    "\n",
    "        Spinner:\n",
    "            id: _page_selector\n",
    "\n",
    "    Button:\n",
    "        text: \"Delete Last Rectangle\"\n",
    "        on_press: root.image_pane.delete_last_rectangle()\n",
    "\n",
    "    BoxLayout:\n",
    "        orientation: 'horizontal'\n",
    "        size_hint_y: 16\n",
    "        BoxLayout:\n",
    "            id: _word_list\n",
    "            size_hint_x: 0.2\n",
    "            orientation: 'vertical'\n",
    "\n",
    "        ImagePane:\n",
    "            id: _image_pane\n",
    "            size_hint_x: 0.8\n",
    "            source: ''\n"
   ]
  },
  {
   "cell_type": "markdown",
   "metadata": {},
   "source": [
    "Notice that we replaced the \"Book\" and \"Page\" `DebugLabels` with `Spinners`. These are drop down selectors.\n",
    "\n",
    "\"Words\" is now an empty `BoxLayout`. We will add to it programmatically.\n",
    "\n",
    "The \"Image\" `DebugLabel` has been replaced by an `ImagePane`. This is our own class, which is an `Image` that will have additional properties and methods (in particular, it will draw a rectangle when you drag on it).\n",
    "\n",
    "Finally, what are these ids? We have given the book spinner the `id` \"_book_selector\". Then at the top we have\n",
    "```\n",
    "book_selector: _book_selector\n",
    "```\n",
    "So in the kv file or in the `SelectionTool` python code, we will be about to reference the book spinner with `self.book_selector`. For example, we set\n",
    "```\n",
    "    book_id: self.book_selector.text\n",
    "```"
   ]
  },
  {
   "cell_type": "markdown",
   "metadata": {},
   "source": [
    "Finally, let's define `ImagePane` (we'll leave it empty for now)."
   ]
  },
  {
   "cell_type": "code",
   "execution_count": 6,
   "metadata": {
    "collapsed": false
   },
   "outputs": [
    {
     "name": "stdout",
     "output_type": "stream",
     "text": [
      "Overwriting imagepane.py\n"
     ]
    }
   ],
   "source": [
    "%%writefile imagepane.py\n",
    "\n",
    "from kivy.uix.image import Image\n",
    "from kivy.lang import Builder\n",
    "from kivy.app import App\n",
    "\n",
    "\n",
    "class ImagePane(Image):\n",
    "    pass\n"
   ]
  },
  {
   "cell_type": "code",
   "execution_count": 7,
   "metadata": {
    "collapsed": false
   },
   "outputs": [
    {
     "name": "stdout",
     "output_type": "stream",
     "text": [
      "Overwriting selectiontool.py\n"
     ]
    }
   ],
   "source": [
    "%%writefile selectiontool.py\n",
    "\n",
    "from kivy.lang import Builder\n",
    "from kivy.uix.boxlayout import BoxLayout\n",
    "from imagepane import ImagePane\n",
    "\n",
    "\n",
    "Builder.load_file('selectiontool.kv')\n",
    "\n",
    "class SelectionTool(BoxLayout):\n",
    "    pass\n",
    "\n"
   ]
  },
  {
   "cell_type": "code",
   "execution_count": 8,
   "metadata": {
    "collapsed": false,
    "scrolled": true
   },
   "outputs": [],
   "source": [
    "#!python main.py"
   ]
  },
  {
   "cell_type": "markdown",
   "metadata": {
    "collapsed": false
   },
   "source": [
    "<img src=\"Images/rough_code_mockup.png\"/>"
   ]
  },
  {
   "cell_type": "markdown",
   "metadata": {},
   "source": [
    "The Book and Page spinners are empty, the image is a small white rectangle, and the Delete button crashes the app. But the layout is good. Progress!"
   ]
  },
  {
   "cell_type": "markdown",
   "metadata": {
    "collapsed": true
   },
   "source": [
    "# Setting the spinners\n",
    "\n",
    "The spinners are empty. We have to give them a list of possible `values`, and set which is initially selected. The `Example_Data` directory contains directories for the books."
   ]
  },
  {
   "cell_type": "code",
   "execution_count": 9,
   "metadata": {
    "collapsed": false
   },
   "outputs": [
    {
     "name": "stdout",
     "output_type": "stream",
     "text": [
      "\u001b[34m0001\u001b[m\u001b[m \u001b[34m0257\u001b[m\u001b[m\r\n"
     ]
    }
   ],
   "source": [
    "!ls Example_Data/"
   ]
  },
  {
   "cell_type": "code",
   "execution_count": 10,
   "metadata": {
    "collapsed": false
   },
   "outputs": [
    {
     "name": "stdout",
     "output_type": "stream",
     "text": [
      "01.jpg        04.jpg        07.jpg        10.jpg\r\n",
      "02.jpg        05.jpg        08.jpg        11.jpg\r\n",
      "03.jpg        06.jpg        09.jpg        word_list.txt\r\n"
     ]
    }
   ],
   "source": [
    "!ls Example_Data/0001/"
   ]
  },
  {
   "cell_type": "markdown",
   "metadata": {
    "collapsed": true
   },
   "source": [
    "The jpegs are the page images, while `word_list.txt` contains words we want to find images for in the book."
   ]
  },
  {
   "cell_type": "code",
   "execution_count": 11,
   "metadata": {
    "collapsed": false
   },
   "outputs": [
    {
     "name": "stdout",
     "output_type": "stream",
     "text": [
      "Overwriting selectiontool.py\n"
     ]
    }
   ],
   "source": [
    "%%writefile selectiontool.py\n",
    "\n",
    "import os\n",
    "import glob\n",
    "\n",
    "from kivy.uix.boxlayout import BoxLayout\n",
    "from kivy.uix.label import Label\n",
    "from kivy.properties import StringProperty\n",
    "from kivy.lang import Builder\n",
    "\n",
    "from imagepane import ImagePane\n",
    "\n",
    "Builder.load_file('selectiontool.kv')\n",
    "\n",
    "class SelectionTool(BoxLayout):\n",
    "    library_directory = 'Example_Data'\n",
    "\n",
    "    book_id = StringProperty()\n",
    "    page = StringProperty()\n",
    "\n",
    "    def __init__(self):\n",
    "        super(SelectionTool, self).__init__()\n",
    "        book_pattern = os.path.join(self.library_directory, '[0-9]' * 4)\n",
    "        self.book_selector.values = [os.path.basename(s) for s in glob.glob(book_pattern)]\n",
    "        self.book_selector.text = self.book_selector.values[0] if self.book_selector.values else 'No Books'\n"
   ]
  },
  {
   "cell_type": "code",
   "execution_count": 12,
   "metadata": {
    "collapsed": false
   },
   "outputs": [],
   "source": [
    "#!python main.py"
   ]
  },
  {
   "cell_type": "markdown",
   "metadata": {
    "collapsed": false
   },
   "source": [
    "<img src=\"Images/book_spinner_set.png\"/>"
   ]
  },
  {
   "cell_type": "markdown",
   "metadata": {},
   "source": [
    "### An aside: Kivy properties\n",
    "\n",
    "A _Kivy property_ is a normal property with an event-driven twist: \n",
    "* when a Kivy property changes, it generates an event that any class can pick up and act on\n",
    "* Kivy properties can be tied together, so that when one changes, the other automatically changes.\n"
   ]
  },
  {
   "cell_type": "markdown",
   "metadata": {
    "collapsed": true
   },
   "source": [
    "### Back to the code\n",
    "\n",
    "The `page_selector` spinner contains the page numbers for the book that is selected. What happens when we pick a book? the `book_selector` spinner gets a new value for `text`. In `selectiontool.kv` we set\n",
    "```\n",
    "    book_id: self.book_selector.text\n",
    "\n",
    "```\n",
    "This makes book_id a kivy property tied to `book_selector.text`. So when we select a new value for the book spinner, we end up with a new value in `book_id`. Since `book_id` is a Kivy property, this fires off an event. The event will automatically call a method named `on_book_id()` if it exists. So let's make one!"
   ]
  },
  {
   "cell_type": "code",
   "execution_count": 13,
   "metadata": {
    "collapsed": false
   },
   "outputs": [
    {
     "name": "stdout",
     "output_type": "stream",
     "text": [
      "Appending to selectiontool.py\n"
     ]
    }
   ],
   "source": [
    "%%writefile -a selectiontool.py\n",
    "\n",
    "    def on_book_id(self, inst=None, value=None):\n",
    "        image_pattern = os.path.join(self.library_directory, self.book_id, '*.jpg')\n",
    "        self.page_selector.values = [os.path.basename(s)[:-4] for s in glob.glob(image_pattern)]\n",
    "        self.page_selector.text = self.page_selector.values[0] if self.page_selector.values else 'No Pages'\n"
   ]
  },
  {
   "cell_type": "code",
   "execution_count": 14,
   "metadata": {
    "collapsed": false
   },
   "outputs": [],
   "source": [
    "#!python main.py"
   ]
  },
  {
   "cell_type": "markdown",
   "metadata": {
    "collapsed": false
   },
   "source": [
    "<img src=\"Images/page_spinner_set.png\"/>"
   ]
  },
  {
   "cell_type": "markdown",
   "metadata": {},
   "source": [
    "# Set the word list"
   ]
  },
  {
   "cell_type": "markdown",
   "metadata": {
    "collapsed": true
   },
   "source": [
    "We also need to load the word list when we change books."
   ]
  },
  {
   "cell_type": "code",
   "execution_count": 15,
   "metadata": {
    "collapsed": false
   },
   "outputs": [
    {
     "name": "stdout",
     "output_type": "stream",
     "text": [
      "Appending to selectiontool.py\n"
     ]
    }
   ],
   "source": [
    "%%writefile -a selectiontool.py\n",
    "\n",
    "    def on_book_id(self, inst=None, value=None):\n",
    "        image_pattern = os.path.join(self.library_directory, self.book_id, '*.jpg')\n",
    "        self.page_selector.values = [os.path.basename(s)[:-4] for s in glob.glob(image_pattern)]\n",
    "        self.page_selector.text = self.page_selector.values[0] if self.page_selector.values else 'No Images'\n",
    "\n",
    "        self.word_list.clear_widgets()\n",
    "        with open(os.path.join(self.library_directory, self.book_id, 'word_list.txt')) as fp:\n",
    "            for word in sorted(fp.readlines()):\n",
    "                self.word_list.add_widget(Label(text=word.strip()))\n"
   ]
  },
  {
   "cell_type": "markdown",
   "metadata": {},
   "source": [
    "Notice that here we are manually changing the widgets in the word list BoxLayout. `clear_widgets()` removes all widgets from the BoxLayout, while `add_widget()` adds a widget. As widgets are added the BoxLayout automatically resizes and repositions them so they all fit."
   ]
  },
  {
   "cell_type": "code",
   "execution_count": 16,
   "metadata": {
    "collapsed": false
   },
   "outputs": [],
   "source": [
    "#!python main.py"
   ]
  },
  {
   "cell_type": "markdown",
   "metadata": {
    "collapsed": false
   },
   "source": [
    "<img src=\"Images/word_list_set.png\"/>"
   ]
  },
  {
   "cell_type": "markdown",
   "metadata": {
    "collapsed": true
   },
   "source": [
    "# Set the image"
   ]
  },
  {
   "cell_type": "markdown",
   "metadata": {
    "collapsed": true
   },
   "source": [
    "So, when we choose a new page we want to load the image for that page onto the screen. Sounds like we need an `on_page()` method!"
   ]
  },
  {
   "cell_type": "code",
   "execution_count": 17,
   "metadata": {
    "collapsed": false
   },
   "outputs": [
    {
     "name": "stdout",
     "output_type": "stream",
     "text": [
      "Appending to selectiontool.py\n"
     ]
    }
   ],
   "source": [
    "%%writefile -a selectiontool.py\n",
    "\n",
    "    def on_page(self, *_):\n",
    "        page_filename = self.page + '.jpg'\n",
    "        self.image_pane.source = os.path.join(self.library_directory, self.book_id, page_filename)\n",
    "        "
   ]
  },
  {
   "cell_type": "code",
   "execution_count": 18,
   "metadata": {
    "collapsed": false
   },
   "outputs": [],
   "source": [
    "#!python main.py"
   ]
  },
  {
   "cell_type": "markdown",
   "metadata": {
    "collapsed": false
   },
   "source": [
    "<img src=\"Images/image_set.png\"/>"
   ]
  },
  {
   "cell_type": "markdown",
   "metadata": {},
   "source": [
    "Well, the image is there, but we'd like it to fill the image box."
   ]
  },
  {
   "cell_type": "code",
   "execution_count": 19,
   "metadata": {
    "collapsed": false
   },
   "outputs": [
    {
     "name": "stdout",
     "output_type": "stream",
     "text": [
      "Overwriting imagepane.py\n"
     ]
    }
   ],
   "source": [
    "%%writefile imagepane.py\n",
    "\n",
    "from kivy.uix.image import Image\n",
    "from kivy.lang import Builder\n",
    "from kivy.app import App\n",
    "\n",
    "Builder.load_string(\"\"\"\n",
    "<ImagePane>:\n",
    "    allow_stretch: True\n",
    "\"\"\")\n",
    "\n",
    "class ImagePane(Image):\n",
    "    pass\n"
   ]
  },
  {
   "cell_type": "markdown",
   "metadata": {},
   "source": [
    "Note that here we've using kv language from a string rather than a file."
   ]
  },
  {
   "cell_type": "code",
   "execution_count": 20,
   "metadata": {
    "collapsed": false,
    "scrolled": false
   },
   "outputs": [],
   "source": [
    "#!python main.py"
   ]
  },
  {
   "cell_type": "markdown",
   "metadata": {
    "collapsed": false
   },
   "source": [
    "<img src=\"Images/image_stretched.png\"/>"
   ]
  },
  {
   "cell_type": "markdown",
   "metadata": {},
   "source": [
    "This is good... Except that if we are on page 1 then selecting a different book changes the word list but not the image!"
   ]
  },
  {
   "cell_type": "markdown",
   "metadata": {},
   "source": [
    "# Exercise"
   ]
  },
  {
   "cell_type": "markdown",
   "metadata": {},
   "source": [
    "Why? Fix this."
   ]
  },
  {
   "cell_type": "code",
   "execution_count": null,
   "metadata": {
    "collapsed": true
   },
   "outputs": [],
   "source": []
  },
  {
   "cell_type": "code",
   "execution_count": null,
   "metadata": {
    "collapsed": true
   },
   "outputs": [],
   "source": []
  },
  {
   "cell_type": "code",
   "execution_count": null,
   "metadata": {
    "collapsed": true
   },
   "outputs": [],
   "source": []
  },
  {
   "cell_type": "code",
   "execution_count": null,
   "metadata": {
    "collapsed": true
   },
   "outputs": [],
   "source": []
  },
  {
   "cell_type": "code",
   "execution_count": null,
   "metadata": {
    "collapsed": true
   },
   "outputs": [],
   "source": []
  },
  {
   "cell_type": "code",
   "execution_count": null,
   "metadata": {
    "collapsed": true
   },
   "outputs": [],
   "source": []
  },
  {
   "cell_type": "code",
   "execution_count": null,
   "metadata": {
    "collapsed": true
   },
   "outputs": [],
   "source": []
  },
  {
   "cell_type": "code",
   "execution_count": null,
   "metadata": {
    "collapsed": true
   },
   "outputs": [],
   "source": []
  },
  {
   "cell_type": "code",
   "execution_count": null,
   "metadata": {
    "collapsed": true
   },
   "outputs": [],
   "source": []
  },
  {
   "cell_type": "code",
   "execution_count": null,
   "metadata": {
    "collapsed": true
   },
   "outputs": [],
   "source": []
  }
 ],
 "metadata": {
  "kernelspec": {
   "display_name": "Python 2",
   "language": "python",
   "name": "python2"
  },
  "language_info": {
   "codemirror_mode": {
    "name": "ipython",
    "version": 2
   },
   "file_extension": ".py",
   "mimetype": "text/x-python",
   "name": "python",
   "nbconvert_exporter": "python",
   "pygments_lexer": "ipython2",
   "version": "2.7.13"
  }
 },
 "nbformat": 4,
 "nbformat_minor": 2
}
