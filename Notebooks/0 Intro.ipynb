{
 "cells": [
  {
   "cell_type": "markdown",
   "metadata": {},
   "source": [
    "Kivy is a python library that you can use to build cross platform (Windows, Mac, Linux, Android, iOS, ...) apps.\n",
    "\n",
    "Kivy provides an interface to inputs (mouse / keyboard / multitouch) as well as outputs (sound, drawing)\n",
    "\n",
    "Kivy is event driven. Essentially, you write code to respond to the events that occur."
   ]
  },
  {
   "cell_type": "markdown",
   "metadata": {},
   "source": [
    "At [LearnLeapFly](http://learnleapfly.com) we are using Python and Kivy to build educational software. Along the way we had to develop tools to process different types of assets. We quickly realized that Kivy could be used to quickly build the tools we needed. In this tutorial we will walk through the development of a tool I wrote to identify parts of images that related to one of a list of important words. The images and words are from stories in our educational app."
   ]
  },
  {
   "cell_type": "markdown",
   "metadata": {},
   "source": [
    "<img src=\"Images/coloured_word_list.png\"/>"
   ]
  },
  {
   "cell_type": "markdown",
   "metadata": {},
   "source": [
    "### Hello World"
   ]
  },
  {
   "cell_type": "code",
   "execution_count": 1,
   "metadata": {
    "collapsed": false
   },
   "outputs": [
    {
     "name": "stdout",
     "output_type": "stream",
     "text": [
      "Writing main.py\n"
     ]
    }
   ],
   "source": [
    "%%writefile main.py\n",
    "\n",
    "from kivy.app import App\n",
    "from kivy.uix.label import Label\n",
    "\n",
    "\n",
    "class MainApp(App):\n",
    "\n",
    "    def build(self):\n",
    "        return Label(text='Hello World')\n",
    "\n",
    "\n",
    "if __name__ == '__main__':\n",
    "    MainApp().run()\n"
   ]
  },
  {
   "cell_type": "markdown",
   "metadata": {},
   "source": [
    "We can run our app from the command line via `python main.py`. \n",
    "\n",
    "We can also get Jupyter to run it for us. If we run the code this way then we have to kill the Kivy window before we can use Jupyter again."
   ]
  },
  {
   "cell_type": "code",
   "execution_count": 2,
   "metadata": {
    "collapsed": false
   },
   "outputs": [],
   "source": [
    "#!python main.py"
   ]
  },
  {
   "cell_type": "markdown",
   "metadata": {
    "collapsed": false
   },
   "source": [
    "<img src=\"Images/hello_world.png\"/>"
   ]
  },
  {
   "cell_type": "markdown",
   "metadata": {},
   "source": [
    "What's going on here?\n",
    "\n",
    "We have defined our own Kivy app `MainApp` and called it's `run()` method. This will call the app's `build()` method, which we've overriden to create a `Label` with text \"Hello World\". By default Kivy makes this label take the full size of the screen."
   ]
  },
  {
   "cell_type": "markdown",
   "metadata": {},
   "source": [
    "## Layouts"
   ]
  },
  {
   "cell_type": "markdown",
   "metadata": {},
   "source": [
    "Graphical objects in kivy are subclasses of the base `Widget` class. Kivy layouts are widgets that you use to arrange other widgets on the screen.\n",
    "\n",
    "One of the most useful layouts is the `BoxLayout`, a one dimensional list of other widgets. A `BoxLayout` can be horizontal or vertical."
   ]
  },
  {
   "cell_type": "code",
   "execution_count": 3,
   "metadata": {
    "collapsed": false
   },
   "outputs": [
    {
     "name": "stdout",
     "output_type": "stream",
     "text": [
      "Writing selectiontool.py\n"
     ]
    }
   ],
   "source": [
    "%%writefile selectiontool.py\n",
    "\n",
    "from kivy.lang import Builder\n",
    "from kivy.uix.boxlayout import BoxLayout\n",
    "\n",
    "Builder.load_file('selectiontool.kv') # Here we are going to say what's in SelectionTool\n",
    "\n",
    "class SelectionTool(BoxLayout): # All this does is say that we have a SelectionTool class that is a BoxLayout\n",
    "    pass\n"
   ]
  },
  {
   "cell_type": "markdown",
   "metadata": {},
   "source": [
    "Kivy has its own markup language ('kv') that can be used to easily define screen layouts, reactions to events, and relationships between properties. The syntax takes some getting used to. \n",
    "\n",
    "Here we add two `Labels` to the `SelectionTool` `BoxLayout`. "
   ]
  },
  {
   "cell_type": "code",
   "execution_count": 4,
   "metadata": {
    "collapsed": false
   },
   "outputs": [
    {
     "name": "stdout",
     "output_type": "stream",
     "text": [
      "Writing selectiontool.kv\n"
     ]
    }
   ],
   "source": [
    "%%writefile selectiontool.kv\n",
    "\n",
    "<SelectionTool>:\n",
    "    Label:\n",
    "        text: \"Hello\"\n",
    "        color: (1,0,0,1) # rgba\n",
    "    Label:\n",
    "        text: \"World\"\n"
   ]
  },
  {
   "cell_type": "markdown",
   "metadata": {},
   "source": [
    "In `main.py` we define the Kivy app and say that it contains a `SelectionTool`. "
   ]
  },
  {
   "cell_type": "code",
   "execution_count": 5,
   "metadata": {
    "collapsed": false
   },
   "outputs": [
    {
     "name": "stdout",
     "output_type": "stream",
     "text": [
      "Overwriting main.py\n"
     ]
    }
   ],
   "source": [
    "%%writefile main.py\n",
    "\n",
    "from kivy.app import App\n",
    "from selectiontool import SelectionTool\n",
    "\n",
    "\n",
    "class MainApp(App):\n",
    "    title = 'Image Selection Tool'\n",
    "\n",
    "    def build(self):\n",
    "        return SelectionTool()\n",
    "\n",
    "\n",
    "if __name__ == '__main__':\n",
    "    MainApp().run()\n"
   ]
  },
  {
   "cell_type": "code",
   "execution_count": null,
   "metadata": {
    "collapsed": false
   },
   "outputs": [],
   "source": [
    "#!python main.py"
   ]
  },
  {
   "cell_type": "markdown",
   "metadata": {
    "collapsed": false
   },
   "source": [
    "<img src=\"Images/hello_world_2.png\"/>"
   ]
  },
  {
   "cell_type": "markdown",
   "metadata": {},
   "source": [
    "Note that the default orientation of a `BoxLayout` is horizontal."
   ]
  },
  {
   "cell_type": "markdown",
   "metadata": {},
   "source": [
    "Let's do a little trick - we'll add to the basic `Widget` class a rectangle arould the widget. We'll also define a new `Widget`, `DebugLabel` to be a `Button` with a colored background. \n",
    "\n",
    "This change to `Widget` and new `DebugLabel` class will allow us to see what's going on with our layouts (and troubleshoot problems!)"
   ]
  },
  {
   "cell_type": "code",
   "execution_count": 6,
   "metadata": {
    "collapsed": false
   },
   "outputs": [
    {
     "name": "stdout",
     "output_type": "stream",
     "text": [
      "Writing main.kv\n"
     ]
    }
   ],
   "source": [
    "%%writefile main.kv\n",
    "\n",
    "# import the python random library\n",
    "#:import python_random random\n",
    "\n",
    "<Widget>:\n",
    "    canvas:\n",
    "        Color:\n",
    "            rgba: .5,.5,.5,.5\n",
    "        Line:\n",
    "            rectangle: self.x, self.y, self.width, self.height\n",
    "            width: 2\n",
    "\n",
    "<DebugLabel@Button>:\n",
    "    size: self.parent.size\n",
    "    pos: self.parent.pos\n",
    "    background_color: python_random.random(), python_random.random(), python_random.random(), 0.6\n",
    "    text: 'debuglabel'"
   ]
  },
  {
   "cell_type": "markdown",
   "metadata": {},
   "source": [
    "Widgets draw on their `canvas`, and we can draw on it manually if we wish. Here we set the color to a transluscent gray and draw a rectangle around the `Widget`'s perimeter.\n",
    "\n",
    "Since we are only going to use the `DebugLabel` in 'kv' files, we don't have to define the class in a python file. Here the `@Button` indicates inheritance."
   ]
  },
  {
   "cell_type": "code",
   "execution_count": 7,
   "metadata": {
    "collapsed": false
   },
   "outputs": [
    {
     "name": "stdout",
     "output_type": "stream",
     "text": [
      "Overwriting selectiontool.kv\n"
     ]
    }
   ],
   "source": [
    "%%writefile selectiontool.kv\n",
    "\n",
    "<SelectionTool>:\n",
    "    orientation: \"horizontal\"\n",
    "    DebugLabel:\n",
    "        text: \"Hello\"\n",
    "    DebugLabel:\n",
    "        text: \"World\"\n"
   ]
  },
  {
   "cell_type": "code",
   "execution_count": null,
   "metadata": {
    "collapsed": false
   },
   "outputs": [],
   "source": [
    "#!python main.py"
   ]
  },
  {
   "cell_type": "markdown",
   "metadata": {
    "collapsed": false
   },
   "source": [
    "<img src=\"Images/hello_world_3.png\"/>"
   ]
  },
  {
   "cell_type": "markdown",
   "metadata": {},
   "source": [
    "Any `Widget` can contain any other `Widget`, so we can put BoxLayouts inside other BoxLayouts."
   ]
  },
  {
   "cell_type": "code",
   "execution_count": 8,
   "metadata": {
    "collapsed": false
   },
   "outputs": [
    {
     "name": "stdout",
     "output_type": "stream",
     "text": [
      "Overwriting selectiontool.kv\n"
     ]
    }
   ],
   "source": [
    "%%writefile selectiontool.kv\n",
    "\n",
    "<SelectionTool>:\n",
    "    orientation: \"horizontal\"\n",
    "        \n",
    "    BoxLayout:\n",
    "        orientation: \"vertical\"\n",
    "        DebugLabel:\n",
    "            size_hint_y: 2\n",
    "            text: \"Hello\"\n",
    "        DebugLabel:\n",
    "            text: \"There\"\n",
    "    DebugLabel:\n",
    "        text: \"World\"\n"
   ]
  },
  {
   "cell_type": "code",
   "execution_count": null,
   "metadata": {
    "collapsed": false
   },
   "outputs": [],
   "source": [
    "#!python main.py"
   ]
  },
  {
   "cell_type": "markdown",
   "metadata": {
    "collapsed": false
   },
   "source": [
    "<img src=\"Images/hello_world_4.png\"/>"
   ]
  },
  {
   "cell_type": "markdown",
   "metadata": {},
   "source": [
    "Here we made the \"Hello There\" `BoxLayout` vertical rather than horizontal.\n",
    "\n",
    "Note that the \"Hello\" `DebugLabel` is twice as tall as the \"There\" one.\n",
    "\n",
    "A BoxLayout computes the size of a child by using the size_hint of the child divided by the sum of the size_hints of all the children. The default value of the size_hint is one.\n",
    "\n",
    "In this case, the \"Hello\" `DebugLabel` takes up 2/3 of the space while the \"There\" `DebugLabel` takes up 1/3.\n",
    "\n",
    "For a horizontal `BoxLayout` we'd change the value of `size_hint_x`."
   ]
  },
  {
   "cell_type": "markdown",
   "metadata": {},
   "source": [
    "## Exercise"
   ]
  },
  {
   "cell_type": "markdown",
   "metadata": {},
   "source": [
    "Change the `selectiontool.kv` file so you get"
   ]
  },
  {
   "cell_type": "markdown",
   "metadata": {
    "collapsed": false
   },
   "source": [
    "<img src=\"Images/tool_layout.png\"/>"
   ]
  },
  {
   "cell_type": "code",
   "execution_count": null,
   "metadata": {
    "collapsed": false
   },
   "outputs": [],
   "source": [
    "%%writefile selectiontool.kv\n",
    "\n",
    "<SelectionTool>:\n",
    "    orientation: \"horizontal\"\n",
    "        \n",
    "    BoxLayout:\n",
    "        orientation: \"vertical\"\n",
    "        DebugLabel:\n",
    "            size_hint_y: 2\n",
    "            text: \"Hello\"\n",
    "        DebugLabel:\n",
    "            text: \"There\"\n",
    "    DebugLabel:\n",
    "        text: \"World\"\n",
    "\n"
   ]
  },
  {
   "cell_type": "code",
   "execution_count": null,
   "metadata": {
    "collapsed": true
   },
   "outputs": [],
   "source": []
  },
  {
   "cell_type": "code",
   "execution_count": null,
   "metadata": {
    "collapsed": true
   },
   "outputs": [],
   "source": []
  },
  {
   "cell_type": "code",
   "execution_count": null,
   "metadata": {
    "collapsed": true
   },
   "outputs": [],
   "source": []
  },
  {
   "cell_type": "code",
   "execution_count": null,
   "metadata": {
    "collapsed": true
   },
   "outputs": [],
   "source": []
  },
  {
   "cell_type": "code",
   "execution_count": null,
   "metadata": {
    "collapsed": true
   },
   "outputs": [],
   "source": []
  },
  {
   "cell_type": "code",
   "execution_count": null,
   "metadata": {
    "collapsed": true
   },
   "outputs": [],
   "source": []
  },
  {
   "cell_type": "code",
   "execution_count": null,
   "metadata": {
    "collapsed": true
   },
   "outputs": [],
   "source": []
  },
  {
   "cell_type": "code",
   "execution_count": null,
   "metadata": {
    "collapsed": true
   },
   "outputs": [],
   "source": []
  },
  {
   "cell_type": "code",
   "execution_count": null,
   "metadata": {
    "collapsed": true
   },
   "outputs": [],
   "source": []
  },
  {
   "cell_type": "code",
   "execution_count": null,
   "metadata": {
    "collapsed": true
   },
   "outputs": [],
   "source": []
  },
  {
   "cell_type": "code",
   "execution_count": null,
   "metadata": {
    "collapsed": true
   },
   "outputs": [],
   "source": []
  },
  {
   "cell_type": "code",
   "execution_count": null,
   "metadata": {
    "collapsed": true
   },
   "outputs": [],
   "source": []
  },
  {
   "cell_type": "code",
   "execution_count": null,
   "metadata": {
    "collapsed": true
   },
   "outputs": [],
   "source": []
  }
 ],
 "metadata": {
  "kernelspec": {
   "display_name": "Python 2",
   "language": "python",
   "name": "python2"
  },
  "language_info": {
   "codemirror_mode": {
    "name": "ipython",
    "version": 2
   },
   "file_extension": ".py",
   "mimetype": "text/x-python",
   "name": "python",
   "nbconvert_exporter": "python",
   "pygments_lexer": "ipython2",
   "version": "2.7.13"
  }
 },
 "nbformat": 4,
 "nbformat_minor": 2
}
