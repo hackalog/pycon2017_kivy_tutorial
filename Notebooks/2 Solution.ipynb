{
 "cells": [
  {
   "cell_type": "markdown",
   "metadata": {
    "collapsed": true
   },
   "source": [
    "# Exercise\n",
    "\n",
    "Add a button that toggles your name appearing in the middle of the image."
   ]
  },
  {
   "cell_type": "markdown",
   "metadata": {
    "collapsed": true
   },
   "source": [
    "# Solution\n",
    "\n",
    "Replace the spacer widget with a button, link it it adding / removing a `Label` from `ImagePane`."
   ]
  },
  {
   "cell_type": "code",
   "execution_count": 1,
   "metadata": {
    "collapsed": false
   },
   "outputs": [
    {
     "name": "stdout",
     "output_type": "stream",
     "text": [
      "Overwriting selectiontool.kv\n"
     ]
    }
   ],
   "source": [
    "%%writefile selectiontool.kv\n",
    "\n",
    "<SelectionTool>:\n",
    "    orientation: \"vertical\"\n",
    "\n",
    "    book_selector: _book_selector\n",
    "    page_selector: _page_selector\n",
    "    image_pane: _image_pane\n",
    "    word_list: _word_list\n",
    "\n",
    "    book_id: self.book_selector.text\n",
    "    page: self.page_selector.text\n",
    "\n",
    "    BoxLayout:\n",
    "        orientation: 'horizontal'\n",
    "\n",
    "        Button: # <--- used to be a blank spacer\n",
    "            size_hint_x: 4\n",
    "            text: \"My Name!\"\n",
    "            on_press: root.toggle_name() # <-- method in SelectionTool\n",
    "\n",
    "        Spinner:\n",
    "            id: _book_selector\n",
    "\n",
    "        Spinner:\n",
    "            id: _page_selector\n",
    "\n",
    "    Button:\n",
    "        text: \"Delete Last Rectangle\"\n",
    "        on_press: root.image_pane.delete_last_rectangle()\n",
    "\n",
    "    BoxLayout:\n",
    "        orientation: 'horizontal'\n",
    "        size_hint_y: 16\n",
    "        BoxLayout:\n",
    "            id: _word_list\n",
    "            size_hint_x: 0.2\n",
    "            orientation: 'vertical'\n",
    "\n",
    "        ImagePane:\n",
    "            id: _image_pane\n",
    "            size_hint_x: 0.8\n",
    "            source: ''"
   ]
  },
  {
   "cell_type": "code",
   "execution_count": 2,
   "metadata": {
    "collapsed": false
   },
   "outputs": [
    {
     "name": "stdout",
     "output_type": "stream",
     "text": [
      "Appending to selectiontool.py\n"
     ]
    }
   ],
   "source": [
    "%%writefile -a selectiontool.py\n",
    "\n",
    "    def toggle_name(self):\n",
    "        if getattr(self, 'name_label', None):\n",
    "            self.image_pane.remove_widget(self.name_label)\n",
    "            self.name_label = None\n",
    "        else:\n",
    "            self.name_label = Label(text=\"Steve\", font_size=200, color=(.5,0,.5,1), center=self.image_pane.center)\n",
    "            self.image_pane.add_widget(self.name_label)\n",
    "        "
   ]
  },
  {
   "cell_type": "markdown",
   "metadata": {},
   "source": [
    "We could have used `pos` to set and get the position, but that's the bottom left corner of things. Instead we use the `center` property.\n",
    "\n",
    "Note that we didn't add the name label to `self`. `self` is a `SelectionTool`, which is a `BoxLayout`, so if we added the label to it, Kivy would add the label as another row at the bottom of the screen (ignoring the y position we supplied)."
   ]
  },
  {
   "cell_type": "code",
   "execution_count": 3,
   "metadata": {
    "collapsed": false
   },
   "outputs": [],
   "source": [
    "#!python main.py"
   ]
  },
  {
   "cell_type": "markdown",
   "metadata": {
    "collapsed": false
   },
   "source": [
    "<img src=\"Images/my_name.png\"/>"
   ]
  },
  {
   "cell_type": "code",
   "execution_count": null,
   "metadata": {
    "collapsed": true
   },
   "outputs": [],
   "source": []
  },
  {
   "cell_type": "code",
   "execution_count": null,
   "metadata": {
    "collapsed": true
   },
   "outputs": [],
   "source": []
  },
  {
   "cell_type": "code",
   "execution_count": null,
   "metadata": {
    "collapsed": true
   },
   "outputs": [],
   "source": []
  },
  {
   "cell_type": "code",
   "execution_count": null,
   "metadata": {
    "collapsed": true
   },
   "outputs": [],
   "source": []
  },
  {
   "cell_type": "code",
   "execution_count": null,
   "metadata": {
    "collapsed": true
   },
   "outputs": [],
   "source": []
  },
  {
   "cell_type": "code",
   "execution_count": null,
   "metadata": {
    "collapsed": true
   },
   "outputs": [],
   "source": []
  },
  {
   "cell_type": "code",
   "execution_count": null,
   "metadata": {
    "collapsed": true
   },
   "outputs": [],
   "source": []
  },
  {
   "cell_type": "code",
   "execution_count": null,
   "metadata": {
    "collapsed": true
   },
   "outputs": [],
   "source": []
  },
  {
   "cell_type": "code",
   "execution_count": null,
   "metadata": {
    "collapsed": true
   },
   "outputs": [],
   "source": []
  }
 ],
 "metadata": {
  "kernelspec": {
   "display_name": "Python 2",
   "language": "python",
   "name": "python2"
  },
  "language_info": {
   "codemirror_mode": {
    "name": "ipython",
    "version": 2
   },
   "file_extension": ".py",
   "mimetype": "text/x-python",
   "name": "python",
   "nbconvert_exporter": "python",
   "pygments_lexer": "ipython2",
   "version": "2.7.13"
  }
 },
 "nbformat": 4,
 "nbformat_minor": 2
}
